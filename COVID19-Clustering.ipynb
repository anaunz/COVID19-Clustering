{
  "nbformat": 4,
  "nbformat_minor": 0,
  "metadata": {
    "colab": {
      "name": "Big Data Analytic: Term Project",
      "provenance": [],
      "collapsed_sections": [],
      "toc_visible": true
    },
    "kernelspec": {
      "name": "python3",
      "display_name": "Python 3"
    }
  },
  "cells": [
    {
      "cell_type": "markdown",
      "metadata": {
        "id": "sUnznnhmqXo_",
        "colab_type": "text"
      },
      "source": [
        "###Prepare Data"
      ]
    },
    {
      "cell_type": "markdown",
      "metadata": {
        "id": "QKX_ulp5saNg",
        "colab_type": "text"
      },
      "source": [
        "I am using datasets from the following links in this notebook.<br>\n",
        "**covid_19_data.csv:** https://www.kaggle.com/sudalairajkumar/novel-corona-virus-2019-dataset<br>\n",
        "**countryLockdowndates.csv:** https://www.kaggle.com/jcyzag/covid19-lockdown-dates-by-country"
      ]
    },
    {
      "cell_type": "code",
      "metadata": {
        "id": "0EL_UG5qQWB9",
        "colab_type": "code",
        "colab": {}
      },
      "source": [
        "import pandas as pd\n",
        "import numpy as np\n",
        "from datetime import timedelta\n",
        "from sklearn.preprocessing import MinMaxScaler\n",
        "from sklearn.cluster import KMeans\n",
        "from sklearn.metrics import silhouette_score\n",
        "import matplotlib.pyplot as plt"
      ],
      "execution_count": 0,
      "outputs": []
    },
    {
      "cell_type": "code",
      "metadata": {
        "id": "o4RNw8Lkfj8P",
        "colab_type": "code",
        "colab": {}
      },
      "source": [
        "df_cases = pd.read_csv('/content/drive/My Drive/Big Data/covid_19_data.csv')\n",
        "df_lockdown = pd.read_csv('/content/drive/My Drive/Big Data/countryLockdowndates.csv')\n",
        "\n",
        "df_cases['Date'] = pd.to_datetime(df_cases['ObservationDate'])\n",
        "df_cases['Country/Region'] = df_cases['Country/Region'].replace('Mainland China', 'China')\n",
        "df_cases['Country/Region'] = df_cases['Country/Region'].replace('UK', 'United Kingdom')\n",
        "df_cases['Province/State'] = df_cases['Province/State'].replace('Taiwan', '-')\n",
        "df_cases = df_cases[(df_cases['Country/Region'] != \"('St. Martin',)\") & (df_cases['Country/Region'] != \"St. Martin\")]\n",
        "df_cases['Country/Region'] = df_cases['Country/Region'].str.strip()\n",
        "\n",
        "df_lockdown['Date'] = pd.to_datetime(df_lockdown['Date'])\n",
        "df_lockdown['Country/Region'] = df_lockdown['Country/Region'].replace('Korea, South', 'South Korea')\n",
        "df_lockdown['Country/Region'] = df_lockdown['Country/Region'].replace('Taiwan*', 'Taiwan')\n",
        "df_lockdown.loc[df_lockdown['Province'] == 'Hong Kong', 'Country/Region'] = 'Hong Kong'\n",
        "df_lockdown.loc[df_lockdown['Date'] > pd.to_datetime('5/1/2020'), 'Date'] = pd.to_datetime(df_lockdown.loc[df_lockdown['Date'] > pd.to_datetime('5/1/2020'), 'Date'].astype(str), format='%Y-%d-%m')"
      ],
      "execution_count": 0,
      "outputs": []
    },
    {
      "cell_type": "code",
      "metadata": {
        "id": "eagGS5yZRHc8",
        "colab_type": "code",
        "colab": {}
      },
      "source": [
        "df = df_cases.fillna('-').merge(df_lockdown.fillna('-'), left_on=['Country/Region', 'Province/State'],\\\n",
        "                    right_on=['Country/Region', 'Province'], how='left')\\\n",
        "                    .drop(columns=['Reference', 'Province', 'Type'])\n",
        "df.loc[df['Date_y'] == '-', 'Date_y'] = pd.to_datetime('1/1/2100')"
      ],
      "execution_count": 0,
      "outputs": []
    },
    {
      "cell_type": "code",
      "metadata": {
        "id": "dUQ3I2amPHNz",
        "colab_type": "code",
        "colab": {}
      },
      "source": [
        "df['Lockdown'] = False\n",
        "df.loc[(df['Date_x'] >= df['Date_y']), 'Lockdown'] = True\n",
        "df = df.drop(columns=['Date_y', 'Last Update', 'SNo', 'ObservationDate'])\n",
        "df = df[df['Confirmed'] > 100]"
      ],
      "execution_count": 0,
      "outputs": []
    },
    {
      "cell_type": "code",
      "metadata": {
        "id": "hd14e2p6_WWl",
        "colab_type": "code",
        "colab": {}
      },
      "source": [
        "df[['Diff_Confirmed', 'Diff_Deaths']] = df[['Country/Region', 'Province/State', 'Confirmed', 'Deaths']].groupby(['Country/Region', 'Province/State']).diff()\n",
        "df = df.fillna(0)"
      ],
      "execution_count": 0,
      "outputs": []
    },
    {
      "cell_type": "code",
      "metadata": {
        "id": "AJmjL1ZPKI6Q",
        "colab_type": "code",
        "colab": {}
      },
      "source": [
        "df[['Max_Confirmed', 'Max_Deaths']] = df.groupby(['Country/Region', 'Province/State'])[['Diff_Confirmed', 'Diff_Deaths']].transform(max)\n",
        "temp = df[df['Diff_Confirmed'] == df['Max_Confirmed']].groupby(['Country/Region', 'Province/State']).first()['Date_x'].reset_index(name='Date_Max_Confirmed')\n",
        "df = df.merge(temp, on=['Country/Region', 'Province/State'])\n",
        "temp = df[df['Diff_Deaths'] == df['Max_Deaths']].groupby(['Country/Region', 'Province/State']).first()['Date_x'].reset_index(name='Date_Max_Deaths')\n",
        "df = df.merge(temp, on=['Country/Region', 'Province/State'])"
      ],
      "execution_count": 0,
      "outputs": []
    },
    {
      "cell_type": "code",
      "metadata": {
        "id": "aTmQr53Etvzo",
        "colab_type": "code",
        "colab": {}
      },
      "source": [
        "temp_df1 = df.groupby(['Country/Region', 'Province/State']).size().reset_index(name='Days')\n",
        "temp_df2 = df.groupby(['Country/Region', 'Province/State']).last()[['Confirmed', 'Deaths', 'Lockdown', 'Max_Confirmed', 'Max_Deaths']]\n",
        "temp_df3 = df.groupby(['Country/Region', 'Province/State']).mean()\n",
        "temp_df4 = df[df['Lockdown'] == True].groupby(['Country/Region', 'Province/State']).size().reset_index(name='Lockdown_Days')\n",
        "temp_df5 = df[df['Date_x'] >= pd.to_datetime('04/05/2020', format='%d/%m/%Y')].groupby(['Country/Region', 'Province/State']).mean()\n",
        "temp_df6 = df[df['Date_x'] >= df['Date_Max_Confirmed']].groupby(['Country/Region', 'Province/State']).size().reset_index(name='Days_After_Max')\n",
        "temp_df7 = df[(df['Date_x'] >= df['Date_Max_Confirmed'] - timedelta(days=6)) & (df['Date_x'] <= df['Date_Max_Confirmed'])]\\\n",
        "            .groupby(['Country/Region', 'Province/State']).mean()['Diff_Confirmed']\n",
        "temp_df8 = df[(df['Date_x'] >= df['Date_Max_Deaths'] - timedelta(days=6)) & (df['Date_x'] <= df['Date_Max_Deaths'])]\\\n",
        "            .groupby(['Country/Region', 'Province/State']).mean()['Diff_Deaths']"
      ],
      "execution_count": 0,
      "outputs": []
    },
    {
      "cell_type": "code",
      "metadata": {
        "id": "KFSWRwwEcqk2",
        "colab_type": "code",
        "colab": {}
      },
      "source": [
        "newDF = temp_df2.merge(temp_df1, on=['Country/Region', 'Province/State'])\n",
        "newDF = newDF[(newDF['Confirmed'] >= 100) & (newDF['Days'] >= 30)]\n",
        "newDF = newDF.merge(temp_df3[['Diff_Confirmed', 'Diff_Deaths']], on=['Country/Region', 'Province/State'])\n",
        "newDF = newDF.merge(temp_df4, on=['Country/Region', 'Province/State'], how='left')\n",
        "newDF = newDF.merge(temp_df5[['Diff_Confirmed', 'Diff_Deaths']], on=['Country/Region', 'Province/State'])\n",
        "newDF = newDF.merge(temp_df6, on=['Country/Region', 'Province/State'])\n",
        "newDF = newDF.merge(temp_df7, on=['Country/Region', 'Province/State'])\n",
        "newDF = newDF.merge(temp_df8, on=['Country/Region', 'Province/State'])\n",
        "newDF = newDF.fillna(0)"
      ],
      "execution_count": 0,
      "outputs": []
    },
    {
      "cell_type": "code",
      "metadata": {
        "id": "cyrQs2qJmJ4Y",
        "colab_type": "code",
        "colab": {}
      },
      "source": [
        "newDF['Death_Rate'] = newDF['Deaths'] / newDF['Confirmed']\n",
        "\n",
        "newDF.columns = ['Country', 'Province', 'Confirmed', 'Deaths', 'Lockdown',\n",
        "                 'C_Max', 'D_Max', 'Days', 'Avg_C', 'Avg_D', \n",
        "                 'Lockdown_Days', 'C_LastWeek/Avg', 'D_LastWeek/Avg', \n",
        "                 'After_Max', 'C_MaxWeek', 'D_MaxWeek', 'Death_Rate']\n",
        "\n",
        "newDF['D_LastWeek/Avg'] = newDF['D_LastWeek/Avg'] / newDF['Avg_D']\n",
        "newDF['C_LastWeek/Avg'] = newDF['C_LastWeek/Avg'] / newDF['Avg_C']\n",
        "newDF = newDF.fillna(0)"
      ],
      "execution_count": 0,
      "outputs": []
    },
    {
      "cell_type": "markdown",
      "metadata": {
        "id": "x1vkVm_0qgcD",
        "colab_type": "text"
      },
      "source": [
        "####Country Profile"
      ]
    },
    {
      "cell_type": "code",
      "metadata": {
        "id": "bd7KwwIRDcBd",
        "colab_type": "code",
        "outputId": "82f5d9ca-caaf-4eff-f1d0-364938b6006a",
        "colab": {
          "base_uri": "https://localhost:8080/",
          "height": 218
        }
      },
      "source": [
        "newDF = newDF[['Country', 'Province', 'Confirmed', 'Deaths', 'Days', \n",
        "       'Avg_C', 'Avg_D', 'C_Max', 'D_Max', 'After_Max', 'Lockdown', \n",
        "       'Lockdown_Days', 'C_MaxWeek', 'D_MaxWeek', 'C_LastWeek/Avg', \n",
        "       'D_LastWeek/Avg', 'Death_Rate']]\n",
        "newDF.head(5)"
      ],
      "execution_count": 10,
      "outputs": [
        {
          "output_type": "execute_result",
          "data": {
            "text/html": [
              "<div>\n",
              "<style scoped>\n",
              "    .dataframe tbody tr th:only-of-type {\n",
              "        vertical-align: middle;\n",
              "    }\n",
              "\n",
              "    .dataframe tbody tr th {\n",
              "        vertical-align: top;\n",
              "    }\n",
              "\n",
              "    .dataframe thead th {\n",
              "        text-align: right;\n",
              "    }\n",
              "</style>\n",
              "<table border=\"1\" class=\"dataframe\">\n",
              "  <thead>\n",
              "    <tr style=\"text-align: right;\">\n",
              "      <th></th>\n",
              "      <th>Country</th>\n",
              "      <th>Province</th>\n",
              "      <th>Confirmed</th>\n",
              "      <th>Deaths</th>\n",
              "      <th>Days</th>\n",
              "      <th>Avg_C</th>\n",
              "      <th>Avg_D</th>\n",
              "      <th>C_Max</th>\n",
              "      <th>D_Max</th>\n",
              "      <th>After_Max</th>\n",
              "      <th>Lockdown</th>\n",
              "      <th>Lockdown_Days</th>\n",
              "      <th>C_MaxWeek</th>\n",
              "      <th>D_MaxWeek</th>\n",
              "      <th>C_LastWeek/Avg</th>\n",
              "      <th>D_LastWeek/Avg</th>\n",
              "      <th>Death_Rate</th>\n",
              "    </tr>\n",
              "  </thead>\n",
              "  <tbody>\n",
              "    <tr>\n",
              "      <th>0</th>\n",
              "      <td>Afghanistan</td>\n",
              "      <td>-</td>\n",
              "      <td>4033.0</td>\n",
              "      <td>115.0</td>\n",
              "      <td>44</td>\n",
              "      <td>89.159091</td>\n",
              "      <td>2.522727</td>\n",
              "      <td>330.0</td>\n",
              "      <td>13.0</td>\n",
              "      <td>5</td>\n",
              "      <td>True</td>\n",
              "      <td>44.0</td>\n",
              "      <td>199.428571</td>\n",
              "      <td>5.000000</td>\n",
              "      <td>2.484323</td>\n",
              "      <td>1.981982</td>\n",
              "      <td>0.028515</td>\n",
              "    </tr>\n",
              "    <tr>\n",
              "      <th>1</th>\n",
              "      <td>Albania</td>\n",
              "      <td>-</td>\n",
              "      <td>856.0</td>\n",
              "      <td>31.0</td>\n",
              "      <td>48</td>\n",
              "      <td>15.666667</td>\n",
              "      <td>0.562500</td>\n",
              "      <td>34.0</td>\n",
              "      <td>4.0</td>\n",
              "      <td>15</td>\n",
              "      <td>True</td>\n",
              "      <td>48.0</td>\n",
              "      <td>23.428571</td>\n",
              "      <td>1.428571</td>\n",
              "      <td>0.648936</td>\n",
              "      <td>0.000000</td>\n",
              "      <td>0.036215</td>\n",
              "    </tr>\n",
              "    <tr>\n",
              "      <th>2</th>\n",
              "      <td>Algeria</td>\n",
              "      <td>-</td>\n",
              "      <td>5558.0</td>\n",
              "      <td>494.0</td>\n",
              "      <td>50</td>\n",
              "      <td>108.380000</td>\n",
              "      <td>9.580000</td>\n",
              "      <td>199.0</td>\n",
              "      <td>30.0</td>\n",
              "      <td>11</td>\n",
              "      <td>True</td>\n",
              "      <td>47.0</td>\n",
              "      <td>134.000000</td>\n",
              "      <td>21.285714</td>\n",
              "      <td>1.666974</td>\n",
              "      <td>0.539318</td>\n",
              "      <td>0.088881</td>\n",
              "    </tr>\n",
              "    <tr>\n",
              "      <th>3</th>\n",
              "      <td>Andorra</td>\n",
              "      <td>-</td>\n",
              "      <td>754.0</td>\n",
              "      <td>48.0</td>\n",
              "      <td>49</td>\n",
              "      <td>13.081633</td>\n",
              "      <td>0.959184</td>\n",
              "      <td>43.0</td>\n",
              "      <td>4.0</td>\n",
              "      <td>44</td>\n",
              "      <td>True</td>\n",
              "      <td>49.0</td>\n",
              "      <td>25.666667</td>\n",
              "      <td>1.571429</td>\n",
              "      <td>0.076443</td>\n",
              "      <td>0.521277</td>\n",
              "      <td>0.063660</td>\n",
              "    </tr>\n",
              "    <tr>\n",
              "      <th>4</th>\n",
              "      <td>Argentina</td>\n",
              "      <td>-</td>\n",
              "      <td>5776.0</td>\n",
              "      <td>300.0</td>\n",
              "      <td>51</td>\n",
              "      <td>110.745098</td>\n",
              "      <td>5.823529</td>\n",
              "      <td>291.0</td>\n",
              "      <td>14.0</td>\n",
              "      <td>17</td>\n",
              "      <td>True</td>\n",
              "      <td>51.0</td>\n",
              "      <td>123.428571</td>\n",
              "      <td>9.000000</td>\n",
              "      <td>1.494423</td>\n",
              "      <td>1.545455</td>\n",
              "      <td>0.051939</td>\n",
              "    </tr>\n",
              "  </tbody>\n",
              "</table>\n",
              "</div>"
            ],
            "text/plain": [
              "       Country Province  Confirmed  ...  C_LastWeek/Avg  D_LastWeek/Avg  Death_Rate\n",
              "0  Afghanistan        -     4033.0  ...        2.484323        1.981982    0.028515\n",
              "1      Albania        -      856.0  ...        0.648936        0.000000    0.036215\n",
              "2      Algeria        -     5558.0  ...        1.666974        0.539318    0.088881\n",
              "3      Andorra        -      754.0  ...        0.076443        0.521277    0.063660\n",
              "4    Argentina        -     5776.0  ...        1.494423        1.545455    0.051939\n",
              "\n",
              "[5 rows x 17 columns]"
            ]
          },
          "metadata": {
            "tags": []
          },
          "execution_count": 10
        }
      ]
    },
    {
      "cell_type": "markdown",
      "metadata": {
        "id": "Ye5QmgGOqn3a",
        "colab_type": "text"
      },
      "source": [
        "#### Selected Features"
      ]
    },
    {
      "cell_type": "code",
      "metadata": {
        "id": "Nzl6xFKl2Y-S",
        "colab_type": "code",
        "outputId": "0af43040-ab83-4976-f5dd-8cc8fcd2c447",
        "colab": {
          "base_uri": "https://localhost:8080/",
          "height": 228
        }
      },
      "source": [
        "finalDF = newDF.drop(columns=['Confirmed', 'Deaths', 'Lockdown', 'Lockdown_Days', 'Avg_C', 'Avg_D', 'C_Max', 'D_Max']).groupby(['Country', 'Province']).last()\n",
        "finalDF = finalDF[(finalDF['C_LastWeek/Avg'] >= 0) & (finalDF['D_LastWeek/Avg'] >= 0)]\n",
        "finalDF.head(5)"
      ],
      "execution_count": 11,
      "outputs": [
        {
          "output_type": "execute_result",
          "data": {
            "text/html": [
              "<div>\n",
              "<style scoped>\n",
              "    .dataframe tbody tr th:only-of-type {\n",
              "        vertical-align: middle;\n",
              "    }\n",
              "\n",
              "    .dataframe tbody tr th {\n",
              "        vertical-align: top;\n",
              "    }\n",
              "\n",
              "    .dataframe thead th {\n",
              "        text-align: right;\n",
              "    }\n",
              "</style>\n",
              "<table border=\"1\" class=\"dataframe\">\n",
              "  <thead>\n",
              "    <tr style=\"text-align: right;\">\n",
              "      <th></th>\n",
              "      <th></th>\n",
              "      <th>Days</th>\n",
              "      <th>After_Max</th>\n",
              "      <th>C_MaxWeek</th>\n",
              "      <th>D_MaxWeek</th>\n",
              "      <th>C_LastWeek/Avg</th>\n",
              "      <th>D_LastWeek/Avg</th>\n",
              "      <th>Death_Rate</th>\n",
              "    </tr>\n",
              "    <tr>\n",
              "      <th>Country</th>\n",
              "      <th>Province</th>\n",
              "      <th></th>\n",
              "      <th></th>\n",
              "      <th></th>\n",
              "      <th></th>\n",
              "      <th></th>\n",
              "      <th></th>\n",
              "      <th></th>\n",
              "    </tr>\n",
              "  </thead>\n",
              "  <tbody>\n",
              "    <tr>\n",
              "      <th>Afghanistan</th>\n",
              "      <th>-</th>\n",
              "      <td>44</td>\n",
              "      <td>5</td>\n",
              "      <td>199.428571</td>\n",
              "      <td>5.000000</td>\n",
              "      <td>2.484323</td>\n",
              "      <td>1.981982</td>\n",
              "      <td>0.028515</td>\n",
              "    </tr>\n",
              "    <tr>\n",
              "      <th>Albania</th>\n",
              "      <th>-</th>\n",
              "      <td>48</td>\n",
              "      <td>15</td>\n",
              "      <td>23.428571</td>\n",
              "      <td>1.428571</td>\n",
              "      <td>0.648936</td>\n",
              "      <td>0.000000</td>\n",
              "      <td>0.036215</td>\n",
              "    </tr>\n",
              "    <tr>\n",
              "      <th>Algeria</th>\n",
              "      <th>-</th>\n",
              "      <td>50</td>\n",
              "      <td>11</td>\n",
              "      <td>134.000000</td>\n",
              "      <td>21.285714</td>\n",
              "      <td>1.666974</td>\n",
              "      <td>0.539318</td>\n",
              "      <td>0.088881</td>\n",
              "    </tr>\n",
              "    <tr>\n",
              "      <th>Andorra</th>\n",
              "      <th>-</th>\n",
              "      <td>49</td>\n",
              "      <td>44</td>\n",
              "      <td>25.666667</td>\n",
              "      <td>1.571429</td>\n",
              "      <td>0.076443</td>\n",
              "      <td>0.521277</td>\n",
              "      <td>0.063660</td>\n",
              "    </tr>\n",
              "    <tr>\n",
              "      <th>Argentina</th>\n",
              "      <th>-</th>\n",
              "      <td>51</td>\n",
              "      <td>17</td>\n",
              "      <td>123.428571</td>\n",
              "      <td>9.000000</td>\n",
              "      <td>1.494423</td>\n",
              "      <td>1.545455</td>\n",
              "      <td>0.051939</td>\n",
              "    </tr>\n",
              "  </tbody>\n",
              "</table>\n",
              "</div>"
            ],
            "text/plain": [
              "                      Days  After_Max  ...  D_LastWeek/Avg  Death_Rate\n",
              "Country     Province                   ...                            \n",
              "Afghanistan -           44          5  ...        1.981982    0.028515\n",
              "Albania     -           48         15  ...        0.000000    0.036215\n",
              "Algeria     -           50         11  ...        0.539318    0.088881\n",
              "Andorra     -           49         44  ...        0.521277    0.063660\n",
              "Argentina   -           51         17  ...        1.545455    0.051939\n",
              "\n",
              "[5 rows x 7 columns]"
            ]
          },
          "metadata": {
            "tags": []
          },
          "execution_count": 11
        }
      ]
    },
    {
      "cell_type": "markdown",
      "metadata": {
        "id": "V0shIKtRqsoC",
        "colab_type": "text"
      },
      "source": [
        "### Clustering"
      ]
    },
    {
      "cell_type": "code",
      "metadata": {
        "id": "XKN6uyByOHnD",
        "colab_type": "code",
        "colab": {}
      },
      "source": [
        "mms = MinMaxScaler()\n",
        "scaled = pd.DataFrame(mms.fit_transform(finalDF),\n",
        "                      columns=finalDF.columns,\n",
        "                      index=finalDF.index)"
      ],
      "execution_count": 0,
      "outputs": []
    },
    {
      "cell_type": "markdown",
      "metadata": {
        "id": "TA-zXNSdqyoY",
        "colab_type": "text"
      },
      "source": [
        "#### Find the best K (n_clusters) using Silhouette method"
      ]
    },
    {
      "cell_type": "code",
      "metadata": {
        "id": "cW5tmHvoWrnT",
        "colab_type": "code",
        "outputId": "59178f54-0dae-4d09-e138-eaa9f9414fc4",
        "colab": {
          "base_uri": "https://localhost:8080/",
          "height": 269
        }
      },
      "source": [
        "w = []\n",
        "for k in np.arange(2, 11, 1):\n",
        "  model = KMeans(n_clusters=k, n_jobs=-1).fit(scaled)\n",
        "  preds = model.predict(scaled)\n",
        "  silhouette = silhouette_score(scaled, preds)\n",
        "  w.append(silhouette)\n",
        "  \n",
        "plt.plot(np.arange(2, 11, 1),w)\n",
        "plt.grid()\n",
        "plt.savefig('silhouettle.png')"
      ],
      "execution_count": 13,
      "outputs": [
        {
          "output_type": "display_data",
          "data": {
            "image/png": "[encoded data removed]",
            "text/plain": [
              "<Figure size 432x288 with 1 Axes>"
            ]
          },
          "metadata": {
            "tags": [],
            "needs_background": "light"
          }
        }
      ]
    },
    {
      "cell_type": "code",
      "metadata": {
        "id": "jWA7GLhkPp7R",
        "colab_type": "code",
        "colab": {}
      },
      "source": [
        "n_clusters = 4\n",
        "\n",
        "cls = KMeans(n_clusters=n_clusters, n_jobs=-1)\n",
        "cls.fit(scaled)\n",
        "\n",
        "model = KMeans(n_clusters=n_clusters).fit(scaled)\n",
        "cluster = scaled.copy()\n",
        "cluster['CLUSTER'] = cls.labels_"
      ],
      "execution_count": 0,
      "outputs": []
    },
    {
      "cell_type": "markdown",
      "metadata": {
        "id": "_pAZzTXWrIqf",
        "colab_type": "text"
      },
      "source": [
        "#### Clustermap"
      ]
    },
    {
      "cell_type": "code",
      "metadata": {
        "id": "Vh03Q62uOHPq",
        "colab_type": "code",
        "outputId": "db7789db-92ee-45e0-d5b3-3d0f6b3ecce5",
        "colab": {
          "base_uri": "https://localhost:8080/",
          "height": 799
        }
      },
      "source": [
        "centroid = pd.DataFrame(model.cluster_centers_, columns=scaled.columns)\n",
        "import seaborn as sns\n",
        "map = sns.clustermap(centroid, cmap='RdYlBu_r')\n",
        "map.savefig('clustermap.png', dpi=400)\n",
        "map"
      ],
      "execution_count": 15,
      "outputs": [
        {
          "output_type": "stream",
          "text": [
            "/usr/local/lib/python3.6/dist-packages/statsmodels/tools/_testing.py:19: FutureWarning: pandas.util.testing is deprecated. Use the functions in the public API at pandas.testing instead.\n",
            "  import pandas.util.testing as tm\n"
          ],
          "name": "stderr"
        },
        {
          "output_type": "execute_result",
          "data": {
            "text/plain": [
              "<seaborn.matrix.ClusterGrid at 0x7f3bd43c8358>"
            ]
          },
          "metadata": {
            "tags": []
          },
          "execution_count": 15
        },
        {
          "output_type": "display_data",
          "data": {
            "image/png": "[encoded data removed]",
            "text/plain": [
              "<Figure size 720x720 with 4 Axes>"
            ]
          },
          "metadata": {
            "tags": [],
            "needs_background": "light"
          }
        }
      ]
    },
    {
      "cell_type": "markdown",
      "metadata": {
        "id": "me57YX88rMhP",
        "colab_type": "text"
      },
      "source": [
        "### Results"
      ]
    },
    {
      "cell_type": "code",
      "metadata": {
        "id": "_0UezV1DC4_k",
        "colab_type": "code",
        "outputId": "02f98e24-0b96-455d-e6d4-4cd5a0bef9dd",
        "colab": {
          "base_uri": "https://localhost:8080/",
          "height": 117
        }
      },
      "source": [
        "cluster.groupby(\"CLUSTER\").size()"
      ],
      "execution_count": 16,
      "outputs": [
        {
          "output_type": "execute_result",
          "data": {
            "text/plain": [
              "CLUSTER\n",
              "0    101\n",
              "1     88\n",
              "2     25\n",
              "3      7\n",
              "dtype: int64"
            ]
          },
          "metadata": {
            "tags": []
          },
          "execution_count": 16
        }
      ]
    },
    {
      "cell_type": "code",
      "metadata": {
        "id": "sWMN0UwbO_s0",
        "colab_type": "code",
        "outputId": "2e53585a-0f28-416f-cd05-b9cc600b595f",
        "colab": {
          "base_uri": "https://localhost:8080/",
          "height": 198
        }
      },
      "source": [
        "temp = finalDF.merge(cluster['CLUSTER'], on=['Country', 'Province'])\n",
        "temp.groupby(\"CLUSTER\").mean()"
      ],
      "execution_count": 17,
      "outputs": [
        {
          "output_type": "execute_result",
          "data": {
            "text/html": [
              "<div>\n",
              "<style scoped>\n",
              "    .dataframe tbody tr th:only-of-type {\n",
              "        vertical-align: middle;\n",
              "    }\n",
              "\n",
              "    .dataframe tbody tr th {\n",
              "        vertical-align: top;\n",
              "    }\n",
              "\n",
              "    .dataframe thead th {\n",
              "        text-align: right;\n",
              "    }\n",
              "</style>\n",
              "<table border=\"1\" class=\"dataframe\">\n",
              "  <thead>\n",
              "    <tr style=\"text-align: right;\">\n",
              "      <th></th>\n",
              "      <th>Days</th>\n",
              "      <th>After_Max</th>\n",
              "      <th>C_MaxWeek</th>\n",
              "      <th>D_MaxWeek</th>\n",
              "      <th>C_LastWeek/Avg</th>\n",
              "      <th>D_LastWeek/Avg</th>\n",
              "      <th>Death_Rate</th>\n",
              "    </tr>\n",
              "    <tr>\n",
              "      <th>CLUSTER</th>\n",
              "      <th></th>\n",
              "      <th></th>\n",
              "      <th></th>\n",
              "      <th></th>\n",
              "      <th></th>\n",
              "      <th></th>\n",
              "      <th></th>\n",
              "    </tr>\n",
              "  </thead>\n",
              "  <tbody>\n",
              "    <tr>\n",
              "      <th>0</th>\n",
              "      <td>48.940594</td>\n",
              "      <td>33.712871</td>\n",
              "      <td>259.440995</td>\n",
              "      <td>12.967539</td>\n",
              "      <td>0.490346</td>\n",
              "      <td>0.494650</td>\n",
              "      <td>0.033461</td>\n",
              "    </tr>\n",
              "    <tr>\n",
              "      <th>1</th>\n",
              "      <td>49.909091</td>\n",
              "      <td>10.602273</td>\n",
              "      <td>687.814935</td>\n",
              "      <td>29.706412</td>\n",
              "      <td>1.825537</td>\n",
              "      <td>1.846670</td>\n",
              "      <td>0.036522</td>\n",
              "    </tr>\n",
              "    <tr>\n",
              "      <th>2</th>\n",
              "      <td>98.920000</td>\n",
              "      <td>83.480000</td>\n",
              "      <td>197.205619</td>\n",
              "      <td>7.770857</td>\n",
              "      <td>0.022380</td>\n",
              "      <td>0.008366</td>\n",
              "      <td>0.012652</td>\n",
              "    </tr>\n",
              "    <tr>\n",
              "      <th>3</th>\n",
              "      <td>63.428571</td>\n",
              "      <td>37.285714</td>\n",
              "      <td>5123.265306</td>\n",
              "      <td>736.387755</td>\n",
              "      <td>0.554458</td>\n",
              "      <td>0.702337</td>\n",
              "      <td>0.132245</td>\n",
              "    </tr>\n",
              "  </tbody>\n",
              "</table>\n",
              "</div>"
            ],
            "text/plain": [
              "              Days  After_Max  ...  D_LastWeek/Avg  Death_Rate\n",
              "CLUSTER                        ...                            \n",
              "0        48.940594  33.712871  ...        0.494650    0.033461\n",
              "1        49.909091  10.602273  ...        1.846670    0.036522\n",
              "2        98.920000  83.480000  ...        0.008366    0.012652\n",
              "3        63.428571  37.285714  ...        0.702337    0.132245\n",
              "\n",
              "[4 rows x 7 columns]"
            ]
          },
          "metadata": {
            "tags": []
          },
          "execution_count": 17
        }
      ]
    },
    {
      "cell_type": "code",
      "metadata": {
        "id": "WMrsVpsQXvWa",
        "colab_type": "code",
        "outputId": "06c3715f-1c6e-4c9d-fa85-49dfeecbe886",
        "colab": {
          "base_uri": "https://localhost:8080/",
          "height": 218
        }
      },
      "source": [
        "temp = newDF.merge(cluster['CLUSTER'], on=['Country', 'Province'])\n",
        "temp.groupby(\"CLUSTER\").mean()"
      ],
      "execution_count": 18,
      "outputs": [
        {
          "output_type": "execute_result",
          "data": {
            "text/html": [
              "<div>\n",
              "<style scoped>\n",
              "    .dataframe tbody tr th:only-of-type {\n",
              "        vertical-align: middle;\n",
              "    }\n",
              "\n",
              "    .dataframe tbody tr th {\n",
              "        vertical-align: top;\n",
              "    }\n",
              "\n",
              "    .dataframe thead th {\n",
              "        text-align: right;\n",
              "    }\n",
              "</style>\n",
              "<table border=\"1\" class=\"dataframe\">\n",
              "  <thead>\n",
              "    <tr style=\"text-align: right;\">\n",
              "      <th></th>\n",
              "      <th>Confirmed</th>\n",
              "      <th>Deaths</th>\n",
              "      <th>Days</th>\n",
              "      <th>Avg_C</th>\n",
              "      <th>Avg_D</th>\n",
              "      <th>C_Max</th>\n",
              "      <th>D_Max</th>\n",
              "      <th>After_Max</th>\n",
              "      <th>Lockdown</th>\n",
              "      <th>Lockdown_Days</th>\n",
              "      <th>C_MaxWeek</th>\n",
              "      <th>D_MaxWeek</th>\n",
              "      <th>C_LastWeek/Avg</th>\n",
              "      <th>D_LastWeek/Avg</th>\n",
              "      <th>Death_Rate</th>\n",
              "    </tr>\n",
              "    <tr>\n",
              "      <th>CLUSTER</th>\n",
              "      <th></th>\n",
              "      <th></th>\n",
              "      <th></th>\n",
              "      <th></th>\n",
              "      <th></th>\n",
              "      <th></th>\n",
              "      <th></th>\n",
              "      <th></th>\n",
              "      <th></th>\n",
              "      <th></th>\n",
              "      <th></th>\n",
              "      <th></th>\n",
              "      <th></th>\n",
              "      <th></th>\n",
              "      <th></th>\n",
              "    </tr>\n",
              "  </thead>\n",
              "  <tbody>\n",
              "    <tr>\n",
              "      <th>0</th>\n",
              "      <td>9148.356436</td>\n",
              "      <td>454.910891</td>\n",
              "      <td>48.940594</td>\n",
              "      <td>153.919253</td>\n",
              "      <td>7.685941</td>\n",
              "      <td>434.603960</td>\n",
              "      <td>25.980198</td>\n",
              "      <td>33.712871</td>\n",
              "      <td>0.801980</td>\n",
              "      <td>38.178218</td>\n",
              "      <td>259.440995</td>\n",
              "      <td>12.967539</td>\n",
              "      <td>0.490346</td>\n",
              "      <td>0.494650</td>\n",
              "      <td>0.033461</td>\n",
              "    </tr>\n",
              "    <tr>\n",
              "      <th>1</th>\n",
              "      <td>19371.761364</td>\n",
              "      <td>806.306818</td>\n",
              "      <td>49.909091</td>\n",
              "      <td>357.095370</td>\n",
              "      <td>14.708127</td>\n",
              "      <td>1103.375000</td>\n",
              "      <td>58.465909</td>\n",
              "      <td>10.602273</td>\n",
              "      <td>0.829545</td>\n",
              "      <td>38.829545</td>\n",
              "      <td>687.814935</td>\n",
              "      <td>29.706412</td>\n",
              "      <td>1.825537</td>\n",
              "      <td>1.846670</td>\n",
              "      <td>0.036522</td>\n",
              "    </tr>\n",
              "    <tr>\n",
              "      <th>2</th>\n",
              "      <td>3725.640000</td>\n",
              "      <td>195.280000</td>\n",
              "      <td>98.920000</td>\n",
              "      <td>34.752420</td>\n",
              "      <td>1.817878</td>\n",
              "      <td>677.080000</td>\n",
              "      <td>53.160000</td>\n",
              "      <td>83.480000</td>\n",
              "      <td>1.000000</td>\n",
              "      <td>98.760000</td>\n",
              "      <td>197.205619</td>\n",
              "      <td>7.770857</td>\n",
              "      <td>0.022380</td>\n",
              "      <td>0.008366</td>\n",
              "      <td>0.012652</td>\n",
              "    </tr>\n",
              "    <tr>\n",
              "      <th>3</th>\n",
              "      <td>179994.857143</td>\n",
              "      <td>22192.285714</td>\n",
              "      <td>63.428571</td>\n",
              "      <td>2853.650727</td>\n",
              "      <td>352.257738</td>\n",
              "      <td>9634.285714</td>\n",
              "      <td>1668.857143</td>\n",
              "      <td>37.285714</td>\n",
              "      <td>1.000000</td>\n",
              "      <td>51.857143</td>\n",
              "      <td>5123.265306</td>\n",
              "      <td>736.387755</td>\n",
              "      <td>0.554458</td>\n",
              "      <td>0.702337</td>\n",
              "      <td>0.132245</td>\n",
              "    </tr>\n",
              "  </tbody>\n",
              "</table>\n",
              "</div>"
            ],
            "text/plain": [
              "             Confirmed        Deaths  ...  D_LastWeek/Avg  Death_Rate\n",
              "CLUSTER                               ...                            \n",
              "0          9148.356436    454.910891  ...        0.494650    0.033461\n",
              "1         19371.761364    806.306818  ...        1.846670    0.036522\n",
              "2          3725.640000    195.280000  ...        0.008366    0.012652\n",
              "3        179994.857143  22192.285714  ...        0.702337    0.132245\n",
              "\n",
              "[4 rows x 15 columns]"
            ]
          },
          "metadata": {
            "tags": []
          },
          "execution_count": 18
        }
      ]
    },
    {
      "cell_type": "markdown",
      "metadata": {
        "id": "JJRevwYEWig4",
        "colab_type": "text"
      },
      "source": [
        "#### Searching a country"
      ]
    },
    {
      "cell_type": "markdown",
      "metadata": {
        "id": "KlT959zFtVoJ",
        "colab_type": "text"
      },
      "source": [
        "temp[temp['Country'] == '*Country_name*']"
      ]
    },
    {
      "cell_type": "code",
      "metadata": {
        "id": "3P8PWAKXsScN",
        "colab_type": "code",
        "colab": {
          "base_uri": "https://localhost:8080/",
          "height": 98
        },
        "outputId": "e539725f-2235-4345-a3a5-c65405379296"
      },
      "source": [
        "temp[temp['Country'] == 'Thailand']"
      ],
      "execution_count": 19,
      "outputs": [
        {
          "output_type": "execute_result",
          "data": {
            "text/html": [
              "<div>\n",
              "<style scoped>\n",
              "    .dataframe tbody tr th:only-of-type {\n",
              "        vertical-align: middle;\n",
              "    }\n",
              "\n",
              "    .dataframe tbody tr th {\n",
              "        vertical-align: top;\n",
              "    }\n",
              "\n",
              "    .dataframe thead th {\n",
              "        text-align: right;\n",
              "    }\n",
              "</style>\n",
              "<table border=\"1\" class=\"dataframe\">\n",
              "  <thead>\n",
              "    <tr style=\"text-align: right;\">\n",
              "      <th></th>\n",
              "      <th>Country</th>\n",
              "      <th>Province</th>\n",
              "      <th>Confirmed</th>\n",
              "      <th>Deaths</th>\n",
              "      <th>Days</th>\n",
              "      <th>Avg_C</th>\n",
              "      <th>Avg_D</th>\n",
              "      <th>C_Max</th>\n",
              "      <th>D_Max</th>\n",
              "      <th>After_Max</th>\n",
              "      <th>Lockdown</th>\n",
              "      <th>Lockdown_Days</th>\n",
              "      <th>C_MaxWeek</th>\n",
              "      <th>D_MaxWeek</th>\n",
              "      <th>C_LastWeek/Avg</th>\n",
              "      <th>D_LastWeek/Avg</th>\n",
              "      <th>Death_Rate</th>\n",
              "      <th>CLUSTER</th>\n",
              "    </tr>\n",
              "  </thead>\n",
              "  <tbody>\n",
              "    <tr>\n",
              "      <th>152</th>\n",
              "      <td>Thailand</td>\n",
              "      <td>-</td>\n",
              "      <td>3004.0</td>\n",
              "      <td>56.0</td>\n",
              "      <td>56</td>\n",
              "      <td>51.607143</td>\n",
              "      <td>0.982143</td>\n",
              "      <td>188.0</td>\n",
              "      <td>4.0</td>\n",
              "      <td>49</td>\n",
              "      <td>True</td>\n",
              "      <td>49.0</td>\n",
              "      <td>69.285714</td>\n",
              "      <td>2.0</td>\n",
              "      <td>0.113033</td>\n",
              "      <td>0.339394</td>\n",
              "      <td>0.018642</td>\n",
              "      <td>0</td>\n",
              "    </tr>\n",
              "  </tbody>\n",
              "</table>\n",
              "</div>"
            ],
            "text/plain": [
              "      Country Province  Confirmed  ...  D_LastWeek/Avg  Death_Rate  CLUSTER\n",
              "152  Thailand        -     3004.0  ...        0.339394    0.018642        0\n",
              "\n",
              "[1 rows x 18 columns]"
            ]
          },
          "metadata": {
            "tags": []
          },
          "execution_count": 19
        }
      ]
    },
    {
      "cell_type": "markdown",
      "metadata": {
        "id": "cyCFb8WUu-Jc",
        "colab_type": "text"
      },
      "source": [
        "<hr>"
      ]
    }
  ]
}